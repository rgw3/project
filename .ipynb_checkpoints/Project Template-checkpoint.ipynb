{
 "cells": [
  {
   "cell_type": "markdown",
   "id": "3cd85129-5d96-4c39-8599-8a39bcf1f022",
   "metadata": {},
   "source": [
    "# Notebook Setup"
   ]
  },
  {
   "cell_type": "markdown",
   "id": "6b279910-41a1-4681-9edb-726b4d058ae3",
   "metadata": {},
   "source": [
    "## Installs"
   ]
  },
  {
   "cell_type": "markdown",
   "id": "3a6975c7-29d1-4999-bcd7-0822b315631d",
   "metadata": {},
   "source": [
    "## Imports"
   ]
  },
  {
   "cell_type": "markdown",
   "id": "c4b3787a-58d8-4d60-91b1-88c35d63a546",
   "metadata": {},
   "source": [
    "# Project Name\n",
    " - Student Name\n",
    " - eid\n",
    " - Course\n",
    " - Term"
   ]
  },
  {
   "cell_type": "markdown",
   "id": "eb4d4de5-71b5-4040-854f-cf1702a262e5",
   "metadata": {},
   "source": [
    "I would like to take a moment to acknowledge <b>[Aurélien Géron](https://www.oreilly.com/pub/au/7106)</b> author of <b>[Hands-On Machine Learning with Scikit-Learn, Keras, and TensorFlow](https://www.oreilly.com/library/view/hands-on-machine-learning/9781098125967/)</b>.\n",
    "The structure of this machine learning project is based upon his Machine Learning Project Checklist (Appendix A). It has been an invaluable resource."
   ]
  },
  {
   "cell_type": "markdown",
   "id": "17c8109e-5f14-4bd8-b020-75e62769ca54",
   "metadata": {},
   "source": [
    "## 1. Frame the Problem and Look at the Big Picture\n",
    " - Define the objective in business terms.\n",
    " - How will your solution be used?\n",
    " - What are the current solutions/workarounds (if any)?\n",
    " - How should you frame this problem (supervised/unsupervised, online/offline, etc.)?\n",
    " - How should performance be measured?\n",
    " - Is the performance measure aligned with the business objective?\n",
    " - What would be the minimum performance needed to reach the business objective?\n",
    " - What are comparable problems? Can you reuse experience or tools?\n",
    " - Is human expertise available?\n",
    " - How would you solve the problem manually?\n",
    " - List the assumptions you (or others) have made so far.\n",
    " - Verify assumptions if possible."
   ]
  },
  {
   "cell_type": "markdown",
   "id": "afefaef2-c058-4966-8532-5cb899826018",
   "metadata": {},
   "source": [
    "## 2. Get the Data\n",
    "Note: automate as much as possible so you can easily get fresh data.\n",
    " - List the data you need and how much you need.\n",
    " - Find and document where you can get that data.\n",
    " - Check how much space it will take.\n",
    " - Check legal obligations, and get authorization if necessary.\n",
    " - Get access authorizations.\n",
    " - Create a workspace (with enough storage space).\n",
    " - Get the data.\n",
    " - Convert the data to a format you can easily manipulate (without changing the data itself).\n",
    " - Ensure sensitive information is deleted or protected (e.g., anonymized).\n",
    " - Check the size and type of data (time series, sample, geographical, etc.).\n",
    " - Sample a test set, put it aside, and never look at it (no data snooping!)."
   ]
  },
  {
   "cell_type": "markdown",
   "id": "332f2c2c-d6d0-4ac6-8a78-e24adecfde8b",
   "metadata": {},
   "source": [
    "## 3. Explore the Data\n",
    "Note: try to get insights from a field expert for these steps.\n",
    " - Create a copy of the data for exploration (sampling it down to a manageable size if necessary).\n",
    " - Create a Jupyter notebook to keep a record of your data exploration.\n",
    " - Study each attribute and its characteristics:\n",
    "    - Name\n",
    "    - Type (categorical, int/float, bounded/unbounded, text, structured, etc.)\n",
    "    - % of missing values\n",
    "    - Noisiness and type of noise (stochastic, outliers, rounding errors, etc.)\n",
    "    - Usefulness for the task\n",
    "    - Type of distribution (Gaussian, uniform, logarithmic, etc.)\n",
    " - For supervised learning tasks, identify the target attribute(s).\n",
    " - Visualize the data.\n",
    " - Study the correlations between attributes.\n",
    " - Study how you would solve the problem manually.\n",
    " - Identify the promising transformations you may want to apply.\n",
    " - Identify extra data that would be useful (go back to “Get the Data” on page 780).\n",
    " - Document what you have learned."
   ]
  },
  {
   "cell_type": "markdown",
   "id": "2c34acdf-09c2-4f56-afd3-cba6f6131f97",
   "metadata": {},
   "source": [
    "## 4. Prepare the Data\n",
    "Notes:\n",
    " - Work on copies of the data (keep the original dataset intact).\n",
    " - Write functions for all data transformations you apply, for five reasons:\n",
    "    - So you can easily prepare the data the next time you get a fresh dataset\n",
    "    - So you can apply these transformations in future projects\n",
    "    - To clean and prepare the test set\n",
    "    - To clean and prepare new data instances once your solution is live\n",
    "    - To make it easy to treat your preparation choices as hyperparameters\n",
    "1. Clean the data:\n",
    "    - Fix or remove outliers (optional).\n",
    "    - Fill in missing values (e.g., with zero, mean, median…) or drop their rows (or columns).\n",
    "2. Perform feature selection (optional):\n",
    "    - Drop the attributes that provide no useful information for the task.\n",
    "3. Perform feature engineering, where appropriate:\n",
    "    - Discretize continuous features.\n",
    "    - Decompose features (e.g., categorical, date/time, etc.).\n",
    "    - Add promising transformations of features (e.g., log(x), sqrt(x), x2, etc.).\n",
    "    - Aggregate features into promising new features.\n",
    "4. Perform feature scaling:\n",
    "    - Standardize or normalize features."
   ]
  },
  {
   "cell_type": "markdown",
   "id": "e016e529-c33a-42b0-bd96-eeb8a0938911",
   "metadata": {},
   "source": [
    "## 5. Shortlist Promising Models\n",
    "Notes:\n",
    " - If the data is huge, you may want to sample smaller training sets so you can train many different models in a reasonable time (be aware that this penalizes complex models such as large neural nets or random forests).\n",
    " - Once again, try to automate these steps as much as possible.\n",
    "1. Train many quick-and-dirty models from different categories (e.g., linear, naive Bayes, SVM, random forest, neural net, etc.) using standard parameters.\n",
    "2. Measure and compare their performance:\n",
    "    - For each model, use N-fold cross-validation and compute the mean and standard deviation of the performance measure on the N folds.\n",
    "3. Analyze the most significant variables for each algorithm.\n",
    "4. Analyze the types of errors the models make:\n",
    "    - What data would a human have used to avoid these errors?\n",
    "5. Perform a quick round of feature selection and engineering.\n",
    "6. Perform one or two more quick iterations of the five previous steps.\n",
    "7. Shortlist the top three to five most promising models, preferring models that make different types of errors."
   ]
  },
  {
   "cell_type": "markdown",
   "id": "5aea22d9-3adb-447e-a9a3-fe33bff8e998",
   "metadata": {},
   "source": [
    "## 6. Fine-Tune the System\n",
    "Notes:\n",
    " - You will want to use as much data as possible for this step, especially as you move toward the end of fine-tuning.\n",
    " - As always, automate what you can.\n",
    "1. Fine-tune the hyperparameters using cross-validation:\n",
    "    - Treat your data transformation choices as hyperparameters, especially when you are not sure about them (e.g., if you’re not sure whether to replace missing values with zeros or with the median value, or to just drop the rows).\n",
    "    - Unless there are very few hyperparameter values to explore, prefer random search over grid search. If training is very long, you may prefer a Bayesian optimization approach (e.g., using Gaussian process priors, as described by Jasper Snoek et al.1).\n",
    "2. Try ensemble methods. Combining your best models will often produce better performance than running them individually.\n",
    "3. Once you are confident about your final model, measure its performance on the test set to estimate the generalization error."
   ]
  },
  {
   "cell_type": "markdown",
   "id": "b8860e43-93d6-4c87-bda3-ee6b2f5d0a6a",
   "metadata": {},
   "source": [
    "## 7. Present your Solution\n",
    "1. Document what you have done.\n",
    "2. Create a nice presentation:\n",
    "    - Make sure you highlight the big picture first.\n",
    "3. Explain why your solution achieves the business objective.\n",
    "4. Don’t forget to present interesting points you noticed along the way:\n",
    "    - Describe what worked and what did not.\n",
    "    - List your assumptions and your system’s limitations.\n",
    "5. Ensure your key findings are communicated through beautiful visualizations or easy-to-remember statements (e.g., “the median income is the number-one predictor of housing prices”)."
   ]
  },
  {
   "cell_type": "markdown",
   "id": "c9235995-251c-4c2e-91c5-8bbd9b97b627",
   "metadata": {},
   "source": [
    "## 8. Launch!\n",
    "1. Get your solution ready for production (plug into production data inputs, write unit tests, etc.).\n",
    "2. Write monitoring code to check your system’s live performance at regular intervals and trigger alerts when it drops:\n",
    "    - Beware of slow degradation: models tend to “rot” as data evolves.\n",
    "    - Measuring performance may require a human pipeline (e.g., via a crowdsourcing service).\n",
    "    - Also monitor your inputs’ quality (e.g., a malfunctioning sensor sending random values, or another team’s output becoming stale). This is particularly important for online learning systems.\n",
    "3. Retrain your models on a regular basis on fresh data (automate as much as possible)."
   ]
  },
  {
   "cell_type": "code",
   "execution_count": null,
   "id": "e751ed45-81ab-43f2-adc1-b17534672e52",
   "metadata": {},
   "outputs": [],
   "source": []
  }
 ],
 "metadata": {
  "kernelspec": {
   "display_name": "Python 3 (ipykernel)",
   "language": "python",
   "name": "python3"
  },
  "language_info": {
   "codemirror_mode": {
    "name": "ipython",
    "version": 3
   },
   "file_extension": ".py",
   "mimetype": "text/x-python",
   "name": "python",
   "nbconvert_exporter": "python",
   "pygments_lexer": "ipython3",
   "version": "3.14.0"
  }
 },
 "nbformat": 4,
 "nbformat_minor": 5
}
