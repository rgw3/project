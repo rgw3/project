{
 "cells": [
  {
   "cell_type": "markdown",
   "id": "cee8b234-d9af-48c4-a782-45fc20eb009f",
   "metadata": {},
   "source": [
    "# Notebook Environment Setup"
   ]
  },
  {
   "cell_type": "markdown",
   "id": "19964769-ee19-4c46-bb25-07bb54617152",
   "metadata": {},
   "source": [
    "## Installs"
   ]
  },
  {
   "cell_type": "code",
   "execution_count": null,
   "id": "cceb0e89-1b81-4267-becb-0f8d4e880d76",
   "metadata": {},
   "outputs": [],
   "source": [
    "# installs of libraries if needed\n",
    "# this is set to pip3 and amy need to be altered if using pip\n",
    "!pip3 install -qU openpyxl sodapy"
   ]
  },
  {
   "cell_type": "markdown",
   "id": "ce85cdb4-8771-48de-8821-7c8355c250eb",
   "metadata": {},
   "source": [
    "## Imports"
   ]
  },
  {
   "cell_type": "code",
   "execution_count": null,
   "id": "6709b3f8-db5a-430e-ac62-2aa9ca1e5913",
   "metadata": {},
   "outputs": [],
   "source": [
    "from pathlib import Path\n",
    "import datetime as dt\n",
    "import requests\n",
    "import pandas as pd\n",
    "import zipfile\n",
    "import io\n",
    "from sodapy import Socrata"
   ]
  },
  {
   "cell_type": "markdown",
   "id": "a453ef35-a31e-4ba5-bf20-0c110485451e",
   "metadata": {},
   "source": [
    "# 1. Look at the Big Picture / Frame the Problem\n",
    "Define the objective, how the model will be used, success metric(s), and key assumptions."
   ]
  },
  {
   "cell_type": "markdown",
   "id": "b0854749-303d-4e10-98d4-af7175683641",
   "metadata": {},
   "source": [
    "### 1.1 Project Overview\n",
    "The purpose of this project is to determine if Social Determinants of Health (SDOH) data and physical distance to emergency medical care can be used predict mortality rates for opiod overdoses."
   ]
  },
  {
   "cell_type": "markdown",
   "id": "cf6d32dd-73b4-4caa-9b87-9d9c4a0f77bd",
   "metadata": {
    "jp-MarkdownHeadingCollapsed": true
   },
   "source": [
    "### 1.2 Problem Definition\n",
    "This is a multi-class classification problem where each census tract is labeled as low, medium, or high overdose risk."
   ]
  },
  {
   "cell_type": "markdown",
   "id": "4f2d9cc7-2bd2-417a-8bcf-129c398da5ac",
   "metadata": {},
   "source": [
    "### 1.3 Goals and Success Metrics\n",
    " - Predictive: maximize multi-class ROC–AUC on unseen tracts.\n",
    " - Interpretive: rank key drivers of risk (SHAP and regression coefficients)."
   ]
  },
  {
   "cell_type": "markdown",
   "id": "d8df696b-c018-4377-9110-ebcf850453cf",
   "metadata": {},
   "source": [
    "### 1.4 Constraints and Assumptions\n",
    " - Only publicly available data (ACS, CDC WONDER, ER locations).\n",
    " - No individual-level data (privacy).\n",
    " - Static model (no temporal trend).\n",
    " - This is limited to 2023 which is the most recent year for most data"
   ]
  },
  {
   "cell_type": "markdown",
   "id": "2d02bb1e-901c-4ee1-bd67-a9a516d18d76",
   "metadata": {},
   "source": [
    "### 1.5 Stakeholders and Use Case\n",
    "<b>State health departments could target prevention programs; planners could allocate emergency resources.</b>"
   ]
  },
  {
   "cell_type": "markdown",
   "id": "189d422f-ff47-41c3-9f4d-8c8e6854c5b9",
   "metadata": {},
   "source": [
    "### 1.6 Risks and Ethical Considerations\n",
    " - Data bias (underreporting, sampling).\n",
    " - Risk of stigmatizing specific communities.\n",
    " - Transparent publication of results and uncertainty."
   ]
  },
  {
   "cell_type": "markdown",
   "id": "dee887ee-7110-47bd-b63b-5dc1623f9f90",
   "metadata": {},
   "source": [
    "### 1.7 Deliverables\n",
    " - Clean, documented dataset at the census tract level.\n",
    " - End-to-end reproducible ML pipeline (classification).\n",
    " - Visual report (maps + SHAP plots).\n",
    " - Academic paper (3,000–5,000 words)."
   ]
  },
  {
   "cell_type": "markdown",
   "id": "644aa63d-73ef-49ed-ac87-172fc5bc6fd3",
   "metadata": {},
   "source": [
    "# 2. Raw Data Pipelines"
   ]
  },
  {
   "cell_type": "markdown",
   "id": "a6c9d885-663b-4ce3-ba64-c1601ebc9da3",
   "metadata": {},
   "source": [
    "### Data Manifest (Tracking and Provenance)\n",
    "\n",
    "| **Dataset** | **Purpose / Description** | **Geography & Years** | **Key Variables** | **Source / URL** | **Filename (local)** |\n",
    "|--------------|---------------------------|------------------------|-------------------|------------------|----------------------|\n",
    "| **CDC WONDER Multiple Cause of Death** | Mortality counts for opioid overdoses; used for *small-area estimation* of tract-level risk. | County (2018–2023) → Texas tracts via SAE | ICD-10 F11, X42, X44, X62, Y12; Deaths; Population | [https://wonder.cdc.gov/mcd.html](https://wonder.cdc.gov/mcd.html) | `data/raw/cdc_wonder_opioid_tx_2018_2023.csv` |\n",
    "| **ACS 5-Year 2019–2023 (B01003)** | Total population (per tract). | Tract (2023) | `B01003_001E` – Total Population | [https://data.census.gov](https://data.census.gov) | `data/raw/acs_2019_2023_tx_B01003.csv` |\n",
    "| **ACS 5-Year 2019–2023 (SDOH tables)** | Social determinant predictors (income, education, employment, insurance, housing). | Tract (2023) | `B19013`, `B15003`, `B23025`, `B25077`, `B27010` | [https://data.census.gov](https://data.census.gov) | `data/raw/acs_2019_2023_tx_SDOH.csv` |\n",
    "| **County Health Rankings & Roadmaps (CHR&R)** | County-level health behaviors & access metrics; used for tract-level augmentation. | County (2023) | `Uninsured`, `Primary Care Physicians`, `Social Associations`, etc. | [https://www.countyhealthrankings.org](https://www.countyhealthrankings.org) | `data/raw/chr_2023_tx.csv` |\n",
    "| **TIGER/Line Census Tracts** | Spatial geometry for tracts; basis for joins and distance calculations. | Tract (2018 or 2023) | `GEOID`, `geometry` | [https://www2.census.gov/geo/tiger/TIGER2023/TRACT/](https://www2.census.gov/geo/tiger/TIGER2023/TRACT/) | `data/raw/tl_2023_48_tract.zip` |\n",
    "| **CMS Hospital General Information** | Locations of hospitals with ER services for distance calculations. | Point locations (2024) | `Hospital_Name`, `Latitude`, `Longitude`, `Emergency_Services` | [https://data.cms.gov/provider-data/dataset/xubh-q36u](https://data.cms.gov/provider-data/dataset/xubh-q36u) | `data/raw/cms_hospitals_2024.csv` |\n",
    "| **NCHS Urban–Rural Classification** | Optional contextual variable (urbanicity score). | County (2023) | `UR_Code`, `UR_Label` | [https://www.cdc.gov/nchs/data_access/urban_rural.htm](https://www.cdc.gov/nchs/data_access/urban_rural.htm) | `data/raw/nchs_urban_rural_2023.csv` |\n",
    "\n",
    "---\n",
    "\n",
    "### **Usage Notes**\n",
    "- Each file will be saved under `project/data/raw/`.  \n",
    "- After data cleaningthe data will be saved under `project/data/processed/`.  "
   ]
  },
  {
   "cell_type": "markdown",
   "id": "48ae9682-6dd5-4529-8abb-d236ad3d75a5",
   "metadata": {},
   "source": [
    "### Set the local file paths"
   ]
  },
  {
   "cell_type": "code",
   "execution_count": null,
   "id": "ed270828-fd1a-4be6-a439-30fb03da8e22",
   "metadata": {},
   "outputs": [],
   "source": [
    "# set data path & validate data path exists\n",
    "RAW_DIR = Path(\"data/raw\")\n",
    "PROCESSED_DIR = Path(\"data/processed\")\n",
    "RAW_DIR.mkdir(parents=True, exist_ok=True)\n",
    "PROCESSED_DIR.mkdir(parents=True, exist_ok=True)"
   ]
  },
  {
   "cell_type": "markdown",
   "id": "9aff9276-746d-4d27-829e-44a8211f1cce",
   "metadata": {},
   "source": [
    "### CDC Wonder Data"
   ]
  },
  {
   "cell_type": "code",
   "execution_count": null,
   "id": "90803485-a447-4826-a9b4-f79d2c5461aa",
   "metadata": {},
   "outputs": [],
   "source": [
    "# Output file for WONDER export (CSV) sets years for 2018 - 2023\n",
    "YEARS = list(range(2018, 2024)) # 2018–2023 inclusive\n",
    "STATE_FIPS = \"48\" # Texas\n",
    "OUTFILE = RAW_DIR / f\"cdc_wonder_opioid_tx_{YEARS[0]}_{YEARS[-1]}.csv\""
   ]
  },
  {
   "cell_type": "code",
   "execution_count": null,
   "id": "ff911508-1270-489f-b28a-497ce6d817b3",
   "metadata": {},
   "outputs": [],
   "source": [
    "# CDC WONDER opioid mortality definition:\n",
    "# UCOD (Underlying Cause of Death) ICD-10 code that identifies the cause that started the chain of events leading directly to death\n",
    "# X40–X44, X60–X64, X85, Y10–Y14 (drug poisonings)\n",
    "UCOD_CODES = [\"X40\",\"X41\",\"X42\",\"X43\",\"X44\",\"X60\",\"X61\",\"X62\",\"X63\",\"X64\",\"X85\",\"Y10\",\"Y11\",\"Y12\",\"Y13\",\"Y14\"]\n",
    "\n",
    "# MCOD (Multiple Cause of Death) contains all the ICD-10 codes listed anywhere on the death certificate\n",
    "# (underlying plus all contributing conditions)\n",
    "# T40.0–T40.4, T40.6 (opioid involvement)\n",
    "MCOD_OPIOID_CODES = [\"T400\",\"T401\",\"T402\",\"T403\",\"T404\",\"T406\"]"
   ]
  },
  {
   "cell_type": "code",
   "execution_count": null,
   "id": "6a9a32e5-7f6a-4fbe-9963-75fb7b2a0168",
   "metadata": {},
   "outputs": [],
   "source": [
    "# set up session request\n",
    "SESSION = requests.Session()\n",
    "\n",
    "HEADERS = {\n",
    "    \"User-Agent\": \"Mozilla/5.0 (X11; Linux x86_64) AppleWebKit/537.36 \"\n",
    "                  \"(KHTML, like Gecko) Chrome/124.0.0.0 Safari/537.36\",\n",
    "    \"Referer\": \"https://wonder.cdc.gov/mcd.html\",\n",
    "    \"Origin\": \"https://wonder.cdc.gov\",\n",
    "}"
   ]
  },
  {
   "cell_type": "code",
   "execution_count": null,
   "id": "a2a532fb-a8f7-4b80-966c-e07f04033303",
   "metadata": {},
   "outputs": [],
   "source": [
    "# landing URL\n",
    "LANDING_URL = \"https://wonder.cdc.gov/mcd.html\""
   ]
  },
  {
   "cell_type": "code",
   "execution_count": null,
   "id": "3e65c0f8-ac96-40bb-9fcf-af34154ce23e",
   "metadata": {},
   "outputs": [],
   "source": [
    "# Establish initial connection (sets cookies)\n",
    "r = SESSION.get(LANDING_URL, headers=HEADERS, timeout=30)\n",
    "print(\"Landing GET status:\", r.status_code)\n",
    "print(\"Cookies now set:\", SESSION.cookies.get_dict())"
   ]
  },
  {
   "cell_type": "code",
   "execution_count": null,
   "id": "effb6a3c-61dc-482c-bab7-3527f1db9fcf",
   "metadata": {},
   "outputs": [],
   "source": [
    "# set cdc wonder url\n",
    "WONDER_URL = \"https://wonder.cdc.gov/controller/datarequest/D76\"  # Multiple Cause of Death"
   ]
  },
  {
   "cell_type": "code",
   "execution_count": null,
   "id": "da587826-f1f8-4881-9423-8c7454607163",
   "metadata": {},
   "outputs": [],
   "source": [
    "# function to fetch CDC data\n",
    "def fetch_cdc_wonder_data(output_path):\n",
    "# WONDER POST form parameters\n",
    "    params = {\n",
    "        \"database\": \"D76\",\n",
    "        \"action-Send\": \"Send\",\n",
    "        \"action-Export\": \"Export\",\n",
    "        \"B_1\": \"Year\",\n",
    "        \"B_2\": \"County\",\n",
    "        \"V_D76.M_1\": \"*All*\",  # all genders\n",
    "        \"V_D76.M_2\": \"*All*\",  # all races\n",
    "        \"V_D76.V1\": \"*All*\",   # all ages\n",
    "        \"V_D76.C1\": \"*All*\",   # all causes (filtered later)\n",
    "        \"V_D76.V10\": \"*All*\",  # all substances\n",
    "        \"O_V10_f\": \"Opioid\",\n",
    "        \"O_aar\": \"false\",\n",
    "        \"F_D76.V7\": \"48\",  # Texas FIPS\n",
    "        \"F_D76.V9\": f\"{YEARS[0]}-{YEARS[-1]}\",\n",
    "        \"I_D76.M_1\": \"*All*\",\n",
    "        \"I_D76.M_2\": \"*All*\",\n",
    "        \"I_D76.V1\": \"*All*\",\n",
    "        \"I_D76.V2\": \"*All*\",\n",
    "        \"I_D76.V27\": \"*All*\",\n",
    "        \"I_D76.V10\": \"*All*\",\n",
    "        \"F_D76.V27\": \"*All*\",\n",
    "        \"F_D76.V10\": \"*All*\",\n",
    "        \"F_D76.V1\": \"*All*\",\n",
    "        \"F_D76.V2\": \"*All*\",\n",
    "    }\n",
    "\n",
    "    print(\"Submitting request to CDC WONDER...\")\n",
    "    resp = SESSION.post(WONDER_URL, data=params, headers=HEADERS)\n",
    "\n",
    "    if resp.status_code != 200:\n",
    "        raise RuntimeError(f\"CDC WONDER request failed (HTTP {resp.status_code})\")\n",
    "\n",
    "    with open(output_path, \"wb\") as f:\n",
    "        f.write(resp.content)\n",
    "\n",
    "    # confirm data saved\n",
    "    print(f\"Data saved to {output_path}\")"
   ]
  },
  {
   "cell_type": "code",
   "execution_count": null,
   "id": "4f006c66-d5d9-41fd-815c-1ca2e47b6f83",
   "metadata": {},
   "outputs": [],
   "source": [
    "# Get CDC Data\n",
    "fetch_cdc_wonder_data(OUTFILE)"
   ]
  },
  {
   "cell_type": "markdown",
   "id": "e339c569-a4ad-4306-83b7-2961caf14cca",
   "metadata": {},
   "source": [
    "### ACS Population Data"
   ]
  },
  {
   "cell_type": "code",
   "execution_count": null,
   "id": "126dd15e-a60f-4123-b021-77c087a8c41a",
   "metadata": {},
   "outputs": [],
   "source": [
    "# set paramters for ACS data\n",
    "ACS_YEAR = 2023                 # 2019–2023 5-year release is labeled by 2023\n",
    "ACS_SURVEY = \"acs/acs5\"         # ACS 5-year dataset family\n",
    "ACS_TABLE  = \"B01003\"           # Total Population\n",
    "STATE_FIPS = \"48\"               # Texas\n",
    "GEO_FOR    = \"tract:*\"          # all tracts\n",
    "GEO_IN     = f\"state:{STATE_FIPS}\"\n",
    "\n",
    "ACS_OUTFILE = RAW_DIR / f\"ACSDT5Y{ACS_YEAR}.{ACS_TABLE}_TX_tract.csv\""
   ]
  },
  {
   "cell_type": "code",
   "execution_count": null,
   "id": "557f540a-2322-43e2-b145-2a62e13b2145",
   "metadata": {},
   "outputs": [],
   "source": [
    "# API endpoint for ACS 5-year\n",
    "ACS_BASE_URL = f\"https://api.census.gov/data/{ACS_YEAR}/{ACS_SURVEY}\""
   ]
  },
  {
   "cell_type": "code",
   "execution_count": null,
   "id": "e04e7830-a689-457f-aab8-87fc3c581877",
   "metadata": {},
   "outputs": [],
   "source": [
    "# variables to request\n",
    "GET_VARS = [\"NAME\", \"B01003_001E\"]  # tract name and total population"
   ]
  },
  {
   "cell_type": "code",
   "execution_count": null,
   "id": "77a460f6-2bfd-4e3b-8f14-e1f551608fd9",
   "metadata": {},
   "outputs": [],
   "source": [
    "# query parameters\n",
    "params = {\n",
    "    \"get\": \",\".join(GET_VARS),\n",
    "    \"for\": GEO_FOR,\n",
    "    \"in\": GEO_IN,\n",
    "}"
   ]
  },
  {
   "cell_type": "code",
   "execution_count": null,
   "id": "d831057c-6793-456b-aaf3-60242c684866",
   "metadata": {},
   "outputs": [],
   "source": [
    "# fetch data from API\n",
    "print(\"Submitting request to Census API...\")\n",
    "resp = requests.get(ACS_BASE_URL, params=params, timeout=60)\n",
    "\n",
    "if resp.status_code != 200:\n",
    "    raise RuntimeError(f\"ACS API request failed (HTTP {resp.status_code})\")"
   ]
  },
  {
   "cell_type": "code",
   "execution_count": null,
   "id": "98352960-0610-4e46-8290-5483ff09a852",
   "metadata": {},
   "outputs": [],
   "source": [
    "# Convert to DataFrame\n",
    "data = resp.json()\n",
    "acs_df = pd.DataFrame(data[1:], columns=data[0])"
   ]
  },
  {
   "cell_type": "code",
   "execution_count": null,
   "id": "7442384f-9ce0-458d-bf0b-0fc157262d83",
   "metadata": {},
   "outputs": [],
   "source": [
    "# create GEOID column (11-digit tract code) combines FIPS code (state column), county code (county column), and tract\n",
    "acs_df[\"GEOID\"] = acs_df[\"state\"] + acs_df[\"county\"] + acs_df[\"tract\"]"
   ]
  },
  {
   "cell_type": "code",
   "execution_count": null,
   "id": "6aaac706-0148-4155-a44f-154e67f99cc8",
   "metadata": {},
   "outputs": [],
   "source": [
    "# rename population column for clarity\n",
    "acs_df.rename(columns={\"B01003_001E\": \"total_population\"}, inplace=True)"
   ]
  },
  {
   "cell_type": "code",
   "execution_count": null,
   "id": "2c56715e-584f-4fbe-9b95-6110db02e782",
   "metadata": {},
   "outputs": [],
   "source": [
    "# save to CSV  in raw folder\n",
    "acs_df.to_csv(ACS_OUTFILE, index=False)\n",
    "print(f\"Data saved to: {ACS_OUTFILE}\")\n",
    "print(f\"Total rows: {len(acs_df):,}\")\n",
    "display(acs_df.head())"
   ]
  },
  {
   "cell_type": "markdown",
   "id": "504cb315-3619-4810-96f4-64c48baec53f",
   "metadata": {},
   "source": [
    "### ACS SDOH Data"
   ]
  },
  {
   "cell_type": "code",
   "execution_count": null,
   "id": "6bba7bb2-aaeb-47cd-97d8-9dd8d94d85b9",
   "metadata": {},
   "outputs": [],
   "source": [
    "# set parameters for ACS data\n",
    "ACS_YEAR = 2023\n",
    "ACS_SURVEY = \"acs/acs5\"\n",
    "STATE_FIPS = \"48\"          # Texas\n",
    "GEO_FOR    = \"tract:*\"\n",
    "GEO_IN     = f\"state:{STATE_FIPS}\""
   ]
  },
  {
   "cell_type": "code",
   "execution_count": null,
   "id": "70ed3c46-4a95-4341-af57-29d698e18691",
   "metadata": {},
   "outputs": [],
   "source": [
    "# SDOH variable map\n",
    "SDOH_VARS = {\n",
    "    # Income, median household income (USD)\n",
    "    \"B19013_001E\": \"median_household_income\",\n",
    "\n",
    "    # education\n",
    "    \"B15003_001E\": \"educ_total\",\n",
    "    \"B15003_022E\": \"educ_bachelor\",\n",
    "    \"B15003_023E\": \"educ_master\",\n",
    "    \"B15003_024E\": \"educ_professional\",\n",
    "    \"B15003_025E\": \"educ_doctorate\",\n",
    "\n",
    "    # employment\n",
    "    \"B23025_001E\": \"emp_total_civ_pop_16plus\",\n",
    "    \"B23025_002E\": \"emp_labor_force\",\n",
    "    \"B23025_005E\": \"emp_unemployed\",\n",
    "\n",
    "    # median home value\n",
    "    \"B25077_001E\": \"median_home_value\",\n",
    "\n",
    "    # health insurance coverage, mapping tables to\n",
    "    \"B27010_001E\": \"ins_total\",\n",
    "    \"B27010_017E\": \"ins_uninsured_19_34\",\n",
    "    \"B27010_033E\": \"ins_uninsured_35_64\",\n",
    "    \"B27010_050E\": \"ins_uninsured_65plus\",\n",
    "    \"B27010_004E\": \"ins_uninsured_under19\",\n",
    "}"
   ]
  },
  {
   "cell_type": "code",
   "execution_count": null,
   "id": "a4d48d72-03b2-4a0a-bfd8-0c2adf14ffb4",
   "metadata": {},
   "outputs": [],
   "source": [
    "# output path for the raw SDOH pull (one wide CSV)\n",
    "ACS_SDOH_OUTFILE = RAW_DIR / f\"ACSDT5Y{ACS_YEAR}.SDOH_TX_tract_raw.csv\"\n",
    "\n",
    "print(\"Raw dir:\", RAW_DIR.resolve())\n",
    "print(\"Variables configured:\", len(SDOH_VARS))\n",
    "print(\"First few variables:\", list(SDOH_VARS.items())[:5])\n",
    "print(\"Output will be:\", ACS_SDOH_OUTFILE)\n",
    "print(\"Timestamp:\", dt.datetime.now())"
   ]
  },
  {
   "cell_type": "code",
   "execution_count": null,
   "id": "2769b990-489e-4e2b-a007-2c203c95f6c1",
   "metadata": {},
   "outputs": [],
   "source": [
    "# set ACS base URL\n",
    "ACS_BASE_URL = f\"https://api.census.gov/data/{ACS_YEAR}/{ACS_SURVEY}\""
   ]
  },
  {
   "cell_type": "code",
   "execution_count": null,
   "id": "1d5e8eca-3451-47a6-bfa5-839567b4880d",
   "metadata": {},
   "outputs": [],
   "source": [
    "# set parameters\n",
    "GET_VARS = [\"NAME\"] + list(SDOH_VARS.keys())\n",
    "\n",
    "params = {\n",
    "    \"get\": \",\".join(GET_VARS),\n",
    "    \"for\": GEO_FOR,\n",
    "    \"in\": GEO_IN,\n",
    "}"
   ]
  },
  {
   "cell_type": "code",
   "execution_count": null,
   "id": "476c61b9-8eec-4d23-9609-396b89d39208",
   "metadata": {},
   "outputs": [],
   "source": [
    "# make request fro SDOH data\n",
    "print(\"Submitting SDOH request to Census API...\")\n",
    "resp = requests.get(ACS_BASE_URL, params=params, timeout=90)\n",
    "\n",
    "if resp.status_code != 200:\n",
    "    raise RuntimeError(f\"ACS API request failed (HTTP {resp.status_code})\")\n",
    "\n",
    "rows = resp.json()"
   ]
  },
  {
   "cell_type": "code",
   "execution_count": null,
   "id": "6f3cb4d8-f0dc-4c65-86d9-123fc8ddd905",
   "metadata": {},
   "outputs": [],
   "source": [
    "# put json in dataframe\n",
    "sdoh_df = pd.DataFrame(rows[1:], columns=rows[0])"
   ]
  },
  {
   "cell_type": "code",
   "execution_count": null,
   "id": "2344b76a-6499-4ac3-857e-74dfb2cd9823",
   "metadata": {},
   "outputs": [],
   "source": [
    "# create GEOID column (11-digit tract code) combines FIPS code (state column), county code (county column), and tract\n",
    "sdoh_df[\"GEOID\"] = sdoh_df[\"state\"] + sdoh_df[\"county\"] + sdoh_df[\"tract\"]"
   ]
  },
  {
   "cell_type": "code",
   "execution_count": null,
   "id": "9e2fe3cc-d230-4e65-963b-d8e496dcff2f",
   "metadata": {},
   "outputs": [],
   "source": [
    "# convert numeric columns\n",
    "for var, newname in SDOH_VARS.items():\n",
    "    sdoh_df[newname] = pd.to_numeric(sdoh_df[var], errors=\"coerce\")"
   ]
  },
  {
   "cell_type": "code",
   "execution_count": null,
   "id": "5d6fdb07-034d-44ed-b14b-e82524162928",
   "metadata": {},
   "outputs": [],
   "source": [
    "# drop columns other than renamed columns + GEOID + NAME\n",
    "keep_cols = [\"GEOID\", \"NAME\"] + list(SDOH_VARS.values())\n",
    "sdoh_df = sdoh_df[keep_cols]"
   ]
  },
  {
   "cell_type": "code",
   "execution_count": null,
   "id": "c178cda6-6151-4a98-a64b-fa862fdb379d",
   "metadata": {},
   "outputs": [],
   "source": [
    "# Save raw SDOH file\n",
    "sdoh_df.to_csv(ACS_SDOH_OUTFILE, index=False)\n",
    "print(f\"SDOH data saved to: {ACS_SDOH_OUTFILE}\")\n",
    "print(f\"Rows: {len(sdoh_df):,}  |  Columns: {len(sdoh_df.columns)}\")\n",
    "display(sdoh_df.head())"
   ]
  },
  {
   "cell_type": "markdown",
   "id": "58f8b965-a238-4e26-913b-1e3419168e2e",
   "metadata": {},
   "source": [
    "### County Health Rankings & Roadmap (CHR&R)"
   ]
  },
  {
   "cell_type": "code",
   "execution_count": null,
   "id": "04e9d35c-cf5e-4c98-9612-f3cb7ac8f91e",
   "metadata": {},
   "outputs": [],
   "source": [
    "# year forCounty Health Rankings pull\n",
    "CHR_YEAR = 2023"
   ]
  },
  {
   "cell_type": "code",
   "execution_count": null,
   "id": "01640b19-c798-49b5-8949-fe0a0a5b27b9",
   "metadata": {},
   "outputs": [],
   "source": [
    "# Official v2 workbook URL (national file)\n",
    "CHR_URL = \"https://www.countyhealthrankings.org/sites/default/files/media/document/2023%20County%20Health%20Rankings%20Data%20-%20v2.xlsx\""
   ]
  },
  {
   "cell_type": "code",
   "execution_count": null,
   "id": "70bdfd61-d8c6-476d-8720-b6f3d9297b47",
   "metadata": {},
   "outputs": [],
   "source": [
    "# locations\n",
    "CHR_XLSX = RAW_DIR / f\"chr_{CHR_YEAR}_us_v2.xlsx\"\n",
    "CHR_TX_CSV = PROCESSED_DIR / f\"chr_{CHR_YEAR}_tx.csv\"\n",
    "\n",
    "print(\"RAW_DIR:\", RAW_DIR.resolve())\n",
    "print(\"PROCESSED_DIR:\", PROCESSED_DIR.resolve())\n",
    "print(\"CHR_YEAR:\", CHR_YEAR)\n",
    "print(\"CHR_URL:\", CHR_URL)\n",
    "print(\"Planned outputs:\", CHR_XLSX.name, \"and\", CHR_TX_CSV.name)\n",
    "print(\"Timestamp:\", dt.datetime.now())"
   ]
  },
  {
   "cell_type": "code",
   "execution_count": null,
   "id": "b2ebec12-606f-4ee5-bfd3-39ce7db510c5",
   "metadata": {},
   "outputs": [],
   "source": [
    "# function to download file\n",
    "def download_chr_excel(url: str, dest_path: Path, overwrite: bool = False, min_bytes: int = 1_000_000):\n",
    "    dest_path.parent.mkdir(parents=True, exist_ok=True)\n",
    "\n",
    "    if dest_path.exists() and not overwrite:\n",
    "        print(f\"File already exists: {dest_path} (skipping download)\")\n",
    "        return dest_path\n",
    "\n",
    "    print(f\"Downloading CHR&R {CHR_YEAR} workbook (v2)...\")\n",
    "    with requests.get(url, stream=True, timeout=120) as r:\n",
    "        r.raise_for_status()\n",
    "        with open(dest_path, \"wb\") as f:\n",
    "            for chunk in r.iter_content(chunk_size=1024 * 256):\n",
    "                if chunk:\n",
    "                    f.write(chunk)\n",
    "\n",
    "    size = dest_path.stat().st_size\n",
    "    if size < min_bytes:\n",
    "        raise RuntimeError(f\"Downloaded file seems too small ({size} bytes): {dest_path}\")\n",
    "\n",
    "    # Light sanity check: try to read just the first few rows of the first sheet\n",
    "    try:\n",
    "        _ = pd.read_excel(dest_path, nrows=5)\n",
    "    except Exception as e:\n",
    "        raise RuntimeError(f\"Downloaded file is not a readable Excel workbook: {e}\")\n",
    "\n",
    "    print(f\"✅ Downloaded and validated: {dest_path} ({size:,} bytes)\")\n",
    "    return dest_path"
   ]
  },
  {
   "cell_type": "code",
   "execution_count": null,
   "id": "ee7a8ecf-cda5-4bfe-b1ba-23103984f12b",
   "metadata": {},
   "outputs": [],
   "source": [
    "# download chr&r file\n",
    "download_chr_excel(CHR_URL, CHR_XLSX)"
   ]
  },
  {
   "cell_type": "markdown",
   "id": "0846566e-0827-4d07-ae53-ccd1eed5c20f",
   "metadata": {},
   "source": [
    "### Tiger/Line Census Tracts"
   ]
  },
  {
   "cell_type": "code",
   "execution_count": null,
   "id": "3aab6f25-7a00-4ebf-867c-71964b3be90f",
   "metadata": {},
   "outputs": [],
   "source": [
    "# 2023 TIGER/Line tracts for Texas (state FIPS 48)\n",
    "TL_YEAR = 2023\n",
    "TL_URL = \"https://www2.census.gov/geo/tiger/TIGER2023/TRACT/tl_2023_48_tract.zip\"\n",
    "TL_ZIP = RAW_DIR / f\"tl_{TL_YEAR}_48_tract.zip\"\n",
    "\n",
    "print(\"RAW_DIR:\", RAW_DIR.resolve())\n",
    "print(\"TL_YEAR:\", TL_YEAR)\n",
    "print(\"TL_URL:\", TL_URL)\n",
    "print(\"Planned output:\", TL_ZIP)\n",
    "print(\"Timestamp:\", dt.datetime.now())"
   ]
  },
  {
   "cell_type": "code",
   "execution_count": null,
   "id": "866f1375-3e16-459a-9a1f-4cd7ac1f2da2",
   "metadata": {},
   "outputs": [],
   "source": [
    "#function to download tiger/line census tract\n",
    "def download_tiger_zip(url: str, dest_path: Path, overwrite: bool = False, min_bytes: int = 5_000_000):\n",
    "    dest_path.parent.mkdir(parents=True, exist_ok=True)\n",
    "\n",
    "    if dest_path.exists() and not overwrite:\n",
    "        print(f\"File already exists: {dest_path} (skipping download)\")\n",
    "        return dest_path\n",
    "\n",
    "    print(f\"Downloading TIGER/Line tracts ({TL_YEAR})...\")\n",
    "    with requests.get(url, stream=True, timeout=120) as r:\n",
    "        r.raise_for_status()\n",
    "        # Stream to memory first to quickly validate as a ZIP\n",
    "        data = io.BytesIO()\n",
    "        for chunk in r.iter_content(1024 * 256):\n",
    "            if chunk:\n",
    "                data.write(chunk)\n",
    "\n",
    "    size = data.getbuffer().nbytes\n",
    "    if size < min_bytes:\n",
    "        raise RuntimeError(f\"Downloaded file seems too small ({size} bytes) — {url}\")\n",
    "\n",
    "    # Validate ZIP structure\n",
    "    data.seek(0)\n",
    "    with zipfile.ZipFile(data) as zf:\n",
    "        names = zf.namelist()\n",
    "        needed = {\".shp\", \".shx\", \".dbf\", \".prj\"}\n",
    "        have = {ext for n in names for ext in [Path(n).suffix]}\n",
    "        if not needed.issubset(have):\n",
    "            raise RuntimeError(f\"ZIP missing shapefile parts; found: {sorted(names)[:6]} ...\")\n",
    "\n",
    "        # If valid, write to disk\n",
    "        with open(dest_path, \"wb\") as f:\n",
    "            f.write(data.getbuffer())\n",
    "\n",
    "    print(f\"Downloaded and validated ZIP: {dest_path} ({size:,} bytes)\")\n",
    "    return dest_path"
   ]
  },
  {
   "cell_type": "code",
   "execution_count": null,
   "id": "9ee934b0-11fd-4a3a-9d8a-fa20b70d73e9",
   "metadata": {},
   "outputs": [],
   "source": [
    "# download the file\n",
    "download_tiger_zip(TL_URL, TL_ZIP)"
   ]
  },
  {
   "cell_type": "code",
   "execution_count": null,
   "id": "29139482-ef91-441f-ad1f-652a1adb478f",
   "metadata": {},
   "outputs": [],
   "source": [
    "TL_ZIP = RAW_DIR / \"tl_2023_48_tract.zip\"\n",
    "TL_DIR = RAW_DIR / \"tl_2023_48_tract\"\n",
    "\n",
    "# Ensure output folder exists\n",
    "TL_DIR.mkdir(parents=True, exist_ok=True)\n",
    "\n",
    "# Unzip the file\n",
    "with zipfile.ZipFile(TL_ZIP, 'r') as zip_ref:\n",
    "    zip_ref.extractall(TL_DIR)\n",
    "\n",
    "print(f\"Unzipped: {TL_ZIP.name}\")\n",
    "print(f\"Extracted to: {TL_DIR.resolve()}\")"
   ]
  },
  {
   "cell_type": "code",
   "execution_count": null,
   "id": "9b74bf1a-8a7d-42b4-8861-053d8910c81b",
   "metadata": {},
   "outputs": [],
   "source": [
    "# delete the zip file\n",
    "if TL_ZIP.exists():\n",
    "    TL_ZIP.unlink()\n",
    "    print(f\"Deleted: {TL_ZIP.name}\")\n",
    "else:\n",
    "    print(\"ZIP file not found — nothing to delete.\")"
   ]
  },
  {
   "cell_type": "markdown",
   "id": "461aad3f-99cf-4e3d-a3e8-7cf53922511e",
   "metadata": {},
   "source": [
    "### CMS Hospital General Information"
   ]
  },
  {
   "cell_type": "code",
   "execution_count": null,
   "id": "e162fd83-ce70-470c-a617-4adbf531faf9",
   "metadata": {},
   "outputs": [],
   "source": [
    "# Connect anonymously to the CMS Socrata API\n",
    "client = Socrata(\"data.cms.gov\", None)"
   ]
  },
  {
   "cell_type": "code",
   "execution_count": null,
   "id": "7d6f8f0a-2cea-49bb-b9e2-ae954106de71",
   "metadata": {},
   "outputs": [],
   "source": []
  },
  {
   "cell_type": "code",
   "execution_count": null,
   "id": "7126eac1-5e21-4507-a07d-a55027c08448",
   "metadata": {},
   "outputs": [],
   "source": [
    "# Fetch all records from the hospital general information dataset\n",
    "results = client.get(\"xubh-q36u\", limit=100000)"
   ]
  },
  {
   "cell_type": "code",
   "execution_count": null,
   "id": "e15ce2fc-b6cf-469d-894b-a1da0f726ae8",
   "metadata": {},
   "outputs": [],
   "source": [
    "# Convert to DataFrame\n",
    "df = pd.DataFrame.from_records(results)\n",
    "\n",
    "# Display the first few rows as a quick check\n",
    "print(df.head())"
   ]
  },
  {
   "cell_type": "markdown",
   "id": "af2bc653-1021-431c-b90a-52283b2745dd",
   "metadata": {},
   "source": [
    "# 3. Explore & Visualize\n",
    "<b>EDA with maps and plots; study attributes, missingness, distributions, and correlations; document insights.</b>"
   ]
  },
  {
   "cell_type": "markdown",
   "id": "e7a184a5-f4fa-44a2-93cb-54241aa648d4",
   "metadata": {},
   "source": [
    "# 4. Prepare the Data (Feature Engineering)\n",
    "<b>Cleaning, tract-level joins, Haversine distance to nearest ER, scaling, transformations; wrap steps as functions to reuse.</b>"
   ]
  },
  {
   "cell_type": "markdown",
   "id": "f503dd20-e23a-4238-8d4f-933a5c6c5a14",
   "metadata": {},
   "source": [
    "# 5. Build Transformation Pipeline\n",
    "<b>Use Scikit-Learn Pipelines/ColumnTransformer so preprocessing and modeling are one reproducible graph.</b>"
   ]
  },
  {
   "cell_type": "markdown",
   "id": "51c0d3a3-9d90-4830-a834-18cb91055220",
   "metadata": {},
   "source": [
    "# 6. Model Selection\n",
    "<b>Train several reasonable models, use cross-validation, compare, inspect errors/feature contributions.</b>"
   ]
  },
  {
   "cell_type": "markdown",
   "id": "518a1d2b-96c2-47fa-917d-72e0d2ce1a46",
   "metadata": {},
   "source": [
    "# 7. Fine-Tune\n",
    "<b>Hyperparameter search (prefer randomized/Bayesian when large), try ensembles, lock results with a clean test-set estimate.</b>"
   ]
  },
  {
   "cell_type": "markdown",
   "id": "f28e8b03-cc5d-4896-89fa-8b15ddd3714c",
   "metadata": {},
   "source": [
    "# 8. Present\n",
    "<b>Tell the story: problem, approach, visuals, limitations, assumptions, and how results meet the objective.</b>"
   ]
  },
  {
   "cell_type": "markdown",
   "id": "960610a5-1089-45bf-9f37-12d482b94357",
   "metadata": {},
   "source": [
    "# 9. Launch\n",
    "<b>Package code/data pulls, note monitoring/shift risks; include ethical considerations and data limitations.</b>"
   ]
  },
  {
   "cell_type": "code",
   "execution_count": null,
   "id": "da7a03a5-0cf2-40ea-bc32-351278027ac5",
   "metadata": {},
   "outputs": [],
   "source": []
  }
 ],
 "metadata": {
  "kernelspec": {
   "display_name": "Python 3 (ipykernel)",
   "language": "python",
   "name": "python3"
  },
  "language_info": {
   "codemirror_mode": {
    "name": "ipython",
    "version": 3
   },
   "file_extension": ".py",
   "mimetype": "text/x-python",
   "name": "python",
   "nbconvert_exporter": "python",
   "pygments_lexer": "ipython3",
   "version": "3.14.0"
  }
 },
 "nbformat": 4,
 "nbformat_minor": 5
}
