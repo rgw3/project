{
 "cells": [
  {
   "cell_type": "markdown",
   "id": "19964769-ee19-4c46-bb25-07bb54617152",
   "metadata": {},
   "source": [
    "## Installs"
   ]
  },
  {
   "cell_type": "code",
   "execution_count": null,
   "id": "fa0c3d72-0792-491b-b5b1-261dce7236d4",
   "metadata": {},
   "outputs": [],
   "source": [
    "!pip3 install -qU geopandas"
   ]
  },
  {
   "cell_type": "markdown",
   "id": "ce85cdb4-8771-48de-8821-7c8355c250eb",
   "metadata": {},
   "source": [
    "## Imports"
   ]
  },
  {
   "cell_type": "code",
   "execution_count": null,
   "id": "f7b483bf-c492-47de-b7b1-2b90c91448f4",
   "metadata": {},
   "outputs": [],
   "source": [
    "# imports\n",
    "from pathlib import Path\n",
    "import pandas as pd\n",
    "import geopandas as gpd"
   ]
  },
  {
   "cell_type": "code",
   "execution_count": null,
   "id": "7755ef7b-d267-4a34-a2b3-dd85ede9daf2",
   "metadata": {},
   "outputs": [],
   "source": [
    "ROOT = Path(\".\")"
   ]
  },
  {
   "cell_type": "code",
   "execution_count": null,
   "id": "80a57406-49cd-498a-acab-07b3581a84c4",
   "metadata": {},
   "outputs": [],
   "source": [
    "# paths\n",
    "ROOT = Path(\".\")\n",
    "TRACTS_ZIP = ROOT/\"data/raw/tracts_tx_2018/tl_rd18_48_tract.zip\"   # or your 2023 zip if you switched\n",
    "ACS_CSV   = ROOT/\"data/raw/ACSDT5Y2023.B01003-Data.csv\""
   ]
  },
  {
   "cell_type": "code",
   "execution_count": null,
   "id": "fc2b3adf-1fe6-4947-8998-c6503b678f2a",
   "metadata": {},
   "outputs": [],
   "source": [
    "# read tract polygons\n",
    "gdf = gpd.read_file(TRACTS_ZIP)"
   ]
  },
  {
   "cell_type": "code",
   "execution_count": null,
   "id": "2aed20e6-a7a7-48fe-ab3a-63fbf55aa6d4",
   "metadata": {},
   "outputs": [],
   "source": [
    "# Find/construct GEOID (11-digit tract FIPS)\n",
    "if \"GEOID\" in gdf.columns:\n",
    "    gdf[\"GEOID\"] = gdf[\"GEOID\"].astype(str)\n",
    "else:\n",
    "    # Construct from parts (common TIGER fields)\n",
    "    for need in [\"STATEFP\",\"COUNTYFP\",\"TRACTCE\"]:\n",
    "        assert need in gdf.columns, f\"Missing expected column {need} in tract shapefile.\"\n",
    "    gdf[\"GEOID\"] = gdf[\"STATEFP\"].astype(str) + gdf[\"COUNTYFP\"].astype(str) + gdf[\"TRACTCE\"].astype(str)"
   ]
  },
  {
   "cell_type": "code",
   "execution_count": null,
   "id": "88c8bcf0-8e3b-4b30-b4eb-d537fe321fb4",
   "metadata": {},
   "outputs": [],
   "source": [
    "# Keep essential columns, ensure WGS84\n",
    "gdf = gdf[[\"GEOID\",\"geometry\"]].to_crs(4326)"
   ]
  },
  {
   "cell_type": "code",
   "execution_count": null,
   "id": "82607efe-b3c0-4b22-9e72-9b7087cc07fd",
   "metadata": {},
   "outputs": [],
   "source": [
    "print(f\"Tracts read: {len(gdf):,}\")\n",
    "display(gdf.head(2))"
   ]
  },
  {
   "cell_type": "code",
   "execution_count": null,
   "id": "0575a265-fe6f-415a-b229-3411c9442370",
   "metadata": {},
   "outputs": [],
   "source": [
    "# --- read ACS total population (B01003_001E) ---\n",
    "acs = pd.read_csv(ACS_CSV, dtype=str)\n",
    "\n",
    "# Standardize column names and extract fields\n",
    "cols = {c:c for c in acs.columns}\n",
    "assert \"GEO_ID\" in acs.columns, \"Expected GEO_ID in ACS file.\"\n",
    "# Some downloads name the estimate exactly 'B01003_001E'; keep as is\n",
    "estimate_col = \"B01003_001E\"\n",
    "assert estimate_col in acs.columns, f\"Expected {estimate_col} in ACS file.\"\n",
    "\n",
    "acs[\"GEOID\"] = acs[\"GEO_ID\"].str[-11:]\n",
    "acs[estimate_col] = pd.to_numeric(acs[estimate_col], errors=\"coerce\")\n",
    "\n",
    "acs = acs[[\"GEOID\", estimate_col, \"NAME\"]]\n",
    "acs.rename(columns={estimate_col: \"total_pop\"}, inplace=True)\n",
    "\n",
    "print(f\"ACS rows: {len(acs):,}\")\n",
    "display(acs.head(2))\n",
    "\n",
    "# --- merge & checks ---\n",
    "merged = gdf.merge(acs, on=\"GEOID\", how=\"left\")\n",
    "missing = merged[\"total_pop\"].isna().sum()\n",
    "\n",
    "print(f\"Merged rows: {len(merged):,} (should equal tract count)\")\n",
    "print(f\"Tracts missing ACS population: {missing:,}\")\n",
    "\n",
    "# Quick sanity: total population distribution\n",
    "print(merged[\"total_pop\"].describe())\n",
    "\n",
    "# Save a clean, aligned geodataframe for later steps\n",
    "OUT = ROOT/\"data/processed/tracts_tx_with_pop.parquet\"\n",
    "merged.to_parquet(OUT, index=False)\n",
    "print(f\"Saved: {OUT}\")"
   ]
  },
  {
   "cell_type": "code",
   "execution_count": null,
   "id": "6709b3f8-db5a-430e-ac62-2aa9ca1e5913",
   "metadata": {},
   "outputs": [],
   "source": []
  }
 ],
 "metadata": {
  "kernelspec": {
   "display_name": "Python 3 (ipykernel)",
   "language": "python",
   "name": "python3"
  },
  "language_info": {
   "codemirror_mode": {
    "name": "ipython",
    "version": 3
   },
   "file_extension": ".py",
   "mimetype": "text/x-python",
   "name": "python",
   "nbconvert_exporter": "python",
   "pygments_lexer": "ipython3",
   "version": "3.13.7"
  }
 },
 "nbformat": 4,
 "nbformat_minor": 5
}
