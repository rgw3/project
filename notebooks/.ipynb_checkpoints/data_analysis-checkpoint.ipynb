{
 "cells": [
  {
   "cell_type": "markdown",
   "id": "19964769-ee19-4c46-bb25-07bb54617152",
   "metadata": {},
   "source": [
    "## Installs"
   ]
  },
  {
   "cell_type": "code",
   "execution_count": null,
   "id": "fa0c3d72-0792-491b-b5b1-261dce7236d4",
   "metadata": {},
   "outputs": [],
   "source": [
    "!pip3 install -qU geopandas"
   ]
  },
  {
   "cell_type": "markdown",
   "id": "ce85cdb4-8771-48de-8821-7c8355c250eb",
   "metadata": {},
   "source": [
    "## Imports"
   ]
  },
  {
   "cell_type": "code",
   "execution_count": null,
   "id": "f7b483bf-c492-47de-b7b1-2b90c91448f4",
   "metadata": {},
   "outputs": [],
   "source": [
    "# imports\n",
    "from pathlib import Path\n",
    "import pandas as pd\n",
    "import geopandas as gpd"
   ]
  },
  {
   "cell_type": "code",
   "execution_count": null,
   "id": "7755ef7b-d267-4a34-a2b3-dd85ede9daf2",
   "metadata": {},
   "outputs": [],
   "source": []
  }
 ],
 "metadata": {
  "kernelspec": {
   "display_name": "Python 3 (ipykernel)",
   "language": "python",
   "name": "python3"
  },
  "language_info": {
   "codemirror_mode": {
    "name": "ipython",
    "version": 3
   },
   "file_extension": ".py",
   "mimetype": "text/x-python",
   "name": "python",
   "nbconvert_exporter": "python",
   "pygments_lexer": "ipython3",
   "version": "3.13.7"
  }
 },
 "nbformat": 4,
 "nbformat_minor": 5
}
